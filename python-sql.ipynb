{
 "cells": [
  {
   "cell_type": "markdown",
   "metadata": {},
   "source": [
    "## Step-by-Step Tutorial: Connecting Python and SQL\n",
    "\n",
    "In this tutorial, we will walk through the process of connecting Python and SQL, allowing you to interact with databases using Python. We will cover the following steps:\n",
    "\n",
    "1. Importing the necessary libraries.\n",
    "2. Establishing a connection to the SQL database.\n",
    "3. Executing SQL queries using Python.\n",
    "4. Retrieving and manipulating data from the database.\n",
    "5. Closing the database connection."
   ]
  },
  {
   "cell_type": "markdown",
   "metadata": {},
   "source": [
    "### Step 1: Importing the necessary libraries\n",
    "To get started, let's import the required libraries for our tutorial. We'll be using the pandas library for data manipulation and the psycopg2 library for connecting to a PostgreSQL database."
   ]
  },
  {
   "cell_type": "code",
   "execution_count": null,
   "metadata": {},
   "outputs": [],
   "source": [
    "import psycopg2\n",
    "import pandas as pd\n",
    "from config import *"
   ]
  },
  {
   "cell_type": "markdown",
   "metadata": {},
   "source": [
    "### Step 2: Establishing a connection to the SQL database\n",
    "Next, we need to establish a connection to our PostgreSQL database. Replace the placeholders (your_host, your_database, your_user, your_password) with your actual database credentials."
   ]
  },
  {
   "cell_type": "code",
   "execution_count": null,
   "metadata": {},
   "outputs": [],
   "source": [
    "try:\n",
    "    conn  = psycopg2.connect(\n",
    "        host = DB_HOST,\n",
    "        port = DB_PORT,    \n",
    "        database = DB_NAME,\n",
    "        user = DB_USER,\n",
    "        password = DB_PASSWORD\n",
    "    )\n",
    "    print(\"Successfully connected to the database!\")\n",
    "\n",
    "    # Create a cursor\n",
    "    cursor = conn .cursor()\n",
    "    # You can now execute SQL queries using the 'cursor' object.\n",
    "\n",
    "except Exception as e:\n",
    "    print(\"Unable to connect to the database:\", e)"
   ]
  },
  {
   "cell_type": "markdown",
   "metadata": {},
   "source": [
    "### Step 3: Executing SQL queries using Python\n",
    "Now that we have a database connection, let's execute some SQL queries using Python. We'll start with a simple query to fetch all records from a table."
   ]
  },
  {
   "cell_type": "code",
   "execution_count": null,
   "metadata": {},
   "outputs": [],
   "source": [
    "# Function to execute a SQL query and return the result as a Pandas DataFrame\n",
    "def execute_query(query):\n",
    "    try:\n",
    "        df = pd.read_sql_query(query, conn)\n",
    "        return df\n",
    "    except Exception as e:\n",
    "        print(\"Error: Unable to execute the query.\")\n",
    "        print(e)\n",
    "\n",
    "# Example: Fetch all records from a table\n",
    "query = \"SELECT * FROM your_table;\"\n",
    "df = execute_query(query)"
   ]
  },
  {
   "cell_type": "markdown",
   "metadata": {},
   "source": [
    "### Step 4: Retrieving and manipulating data from the database\n",
    "We have retrieved the data from the database and stored it in a Pandas DataFrame. Now, let's explore the data and perform some basic manipulations."
   ]
  },
  {
   "cell_type": "code",
   "execution_count": null,
   "metadata": {},
   "outputs": [],
   "source": [
    "# Display the first few rows of the DataFrame\n",
    "df.head()\n",
    "\n",
    "# Perform data manipulations\n",
    "# Example: Filter the DataFrame based on a condition\n",
    "filtered_df = df[df['column_name'] > 10]\n",
    "\n",
    "# Example: Perform aggregations\n",
    "aggregated_df = df.groupby('column_name').sum()\n",
    "\n",
    "# ... Perform more data manipulations as needed"
   ]
  },
  {
   "cell_type": "markdown",
   "metadata": {},
   "source": [
    "### Step 5: Closing the database connection\n",
    "Once we are done working with the database, it's important to close the connection properly."
   ]
  },
  {
   "cell_type": "code",
   "execution_count": null,
   "metadata": {},
   "outputs": [],
   "source": [
    "# Close the database connection\n",
    "conn.close()\n"
   ]
  }
 ],
 "metadata": {
  "kernelspec": {
   "display_name": "venv",
   "language": "python",
   "name": "python3"
  },
  "language_info": {
   "name": "python",
   "version": "3.11.3"
  },
  "orig_nbformat": 4
 },
 "nbformat": 4,
 "nbformat_minor": 2
}
